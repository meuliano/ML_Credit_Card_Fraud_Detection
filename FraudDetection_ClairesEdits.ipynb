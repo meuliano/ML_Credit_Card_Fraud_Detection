{
 "cells": [
  {
   "cell_type": "markdown",
   "metadata": {},
   "source": [
    "# Credit Card Fraud Detection\n",
    "#### By Shadi Bavar, Matthew Euliano, and Claire Parisi\n",
    "\n",
    "\n",
    "##### Importing Required Libraries & Dataset"
   ]
  },
  {
   "cell_type": "code",
   "execution_count": null,
   "metadata": {},
   "outputs": [],
   "source": [
    "#Importing the libraries\n",
    "import numpy as np # linear algebra\n",
    "import pandas as pd # data processing, CSV file I/O (e.g. pd.read_csv)\n",
    "import matplotlib.pyplot as plt\n",
    "import seaborn as sns\n",
    "from sklearn.preprocessing import StandardScaler\n",
    "from sklearn.linear_model import LogisticRegression\n",
    "from sklearn.model_selection import train_test_split, KFold, cross_val_score, GridSearchCV\n",
    "from sklearn.metrics import confusion_matrix,precision_recall_curve,auc,roc_auc_score,roc_curve,recall_score,classification_report, f1_score, accuracy_score, precision_score, recall_score, make_scorer \n"
   ]
  },
  {
   "cell_type": "code",
   "execution_count": null,
   "metadata": {},
   "outputs": [],
   "source": [
    "#Importing the Data\n",
    "data = pd.read_csv('creditcard.csv')\n",
    "data.head()"
   ]
  },
  {
   "cell_type": "code",
   "execution_count": null,
   "metadata": {},
   "outputs": [],
   "source": [
    "#Show statistics\n",
    "data.describe()"
   ]
  },
  {
   "cell_type": "markdown",
   "metadata": {},
   "source": [
    "##### Visualization and Data Conditioning"
   ]
  },
  {
   "cell_type": "code",
   "execution_count": null,
   "metadata": {},
   "outputs": [],
   "source": [
    "#Plot number of each class: data is skewed\n",
    "plt.hist(data['Class'], bins = [-.4, .4, .6, 1.4], color = 'red')\n",
    "plt.xlabel('Class')\n",
    "plt.xticks([0, 1])\n",
    "plt.ylabel('Occurrences')\n",
    "plt.show()\n",
    "\n",
    "print('Number of fraud transactions:', len(data[data['Class'] == 1]), '(', round(len(data[data['Class'] == 1])/len(data)*100, 2), '%)')\n",
    "print('Number of non-fraud transactions:', len(data[data['Class'] == 0]), '(', round(len(data[data['Class'] == 0])/len(data)*100, 2), '%)')\n",
    "\n",
    "#Ditrubution of transaction amounts\n",
    "plt.hist(data['Amount'], bins = 500, color = 'red')\n",
    "plt.xlabel('Amount ($)')\n",
    "plt.ylabel('Occurrences')\n",
    "plt.show()\n",
    "\n",
    "#Distribution of fraudulent transaction amounts\n",
    "plt.hist(data[data['Class'] == 1]['Amount'], bins = 500, color = 'red')\n",
    "plt.xlabel('Amount ($)')\n",
    "plt.ylabel('Occurrences')\n",
    "plt.show()\n",
    "\n",
    "#Distribution of transaction times\n",
    "plt.hist(data['Time'], bins = 500)\n",
    "plt.xlabel('Time (in seconds)')\n",
    "plt.ylabel('Occurrences')\n",
    "plt.show()\n",
    "\n",
    "#Distribution of fraudulent transaction times\n",
    "plt.hist(data[data['Class'] == 1]['Time'], bins = 500)\n",
    "plt.xlabel('Time (in seconds)')\n",
    "plt.ylabel('Occurrences')\n",
    "plt.show()\n",
    "\n",
    "#Time vs Amount Feature Plot\n",
    "plt.scatter(data[data['Class'] == 0]['Time'], data[data['Class'] == 0]['Amount'], color = 'blue', label = 'Normal')\n",
    "plt.scatter(data[data['Class'] == 1]['Time'], data[data['Class'] == 1]['Amount'], color = 'red', marker = 'x', label = 'Fraud')\n",
    "plt.xlabel('Time (in seconds)')\n",
    "plt.ylabel('Amount ($)')\n",
    "plt.legend()\n",
    "plt.show()"
   ]
  },
  {
   "cell_type": "code",
   "execution_count": 27,
   "metadata": {},
   "outputs": [
    {
     "ename": "IndexError",
     "evalue": "only integers, slices (`:`), ellipsis (`...`), numpy.newaxis (`None`) and integer or boolean arrays are valid indices",
     "output_type": "error",
     "traceback": [
      "\u001b[1;31m---------------------------------------------------------------------------\u001b[0m",
      "\u001b[1;31mIndexError\u001b[0m                                Traceback (most recent call last)",
      "\u001b[1;32mc:\\Users\\Claire\\Desktop\\Assignments_Northeastern\\EECE5644 Introduction to Machine Learning and Pattern Recognition\\ML_Credit_Card_Fraud_Detection\\FraudDetection_ClairesEdits.ipynb Cell 7'\u001b[0m in \u001b[0;36m<cell line: 7>\u001b[1;34m()\u001b[0m\n\u001b[0;32m      <a href='vscode-notebook-cell:/c%3A/Users/Claire/Desktop/Assignments_Northeastern/EECE5644%20Introduction%20to%20Machine%20Learning%20and%20Pattern%20Recognition/ML_Credit_Card_Fraud_Detection/FraudDetection_ClairesEdits.ipynb#ch0000006?line=1'>2</a>\u001b[0m data \u001b[39m=\u001b[39m StandardScaler()\u001b[39m.\u001b[39mfit_transform(data)\n\u001b[0;32m      <a href='vscode-notebook-cell:/c%3A/Users/Claire/Desktop/Assignments_Northeastern/EECE5644%20Introduction%20to%20Machine%20Learning%20and%20Pattern%20Recognition/ML_Credit_Card_Fraud_Detection/FraudDetection_ClairesEdits.ipynb#ch0000006?line=2'>3</a>\u001b[0m \u001b[39m# data['Amount'] =  StandardScaler().fit_transform(data['Amount'].values.reshape(-1, 1))\u001b[39;00m\n\u001b[0;32m      <a href='vscode-notebook-cell:/c%3A/Users/Claire/Desktop/Assignments_Northeastern/EECE5644%20Introduction%20to%20Machine%20Learning%20and%20Pattern%20Recognition/ML_Credit_Card_Fraud_Detection/FraudDetection_ClairesEdits.ipynb#ch0000006?line=3'>4</a>\u001b[0m \n\u001b[0;32m      <a href='vscode-notebook-cell:/c%3A/Users/Claire/Desktop/Assignments_Northeastern/EECE5644%20Introduction%20to%20Machine%20Learning%20and%20Pattern%20Recognition/ML_Credit_Card_Fraud_Detection/FraudDetection_ClairesEdits.ipynb#ch0000006?line=4'>5</a>\u001b[0m \n\u001b[0;32m      <a href='vscode-notebook-cell:/c%3A/Users/Claire/Desktop/Assignments_Northeastern/EECE5644%20Introduction%20to%20Machine%20Learning%20and%20Pattern%20Recognition/ML_Credit_Card_Fraud_Detection/FraudDetection_ClairesEdits.ipynb#ch0000006?line=5'>6</a>\u001b[0m \u001b[39m#Plotting the scaled amount data to see if that improves visualization\u001b[39;00m\n\u001b[1;32m----> <a href='vscode-notebook-cell:/c%3A/Users/Claire/Desktop/Assignments_Northeastern/EECE5644%20Introduction%20to%20Machine%20Learning%20and%20Pattern%20Recognition/ML_Credit_Card_Fraud_Detection/FraudDetection_ClairesEdits.ipynb#ch0000006?line=6'>7</a>\u001b[0m plt\u001b[39m.\u001b[39mhist(data[\u001b[39m'\u001b[39;49m\u001b[39mAmount\u001b[39;49m\u001b[39m'\u001b[39;49m], bins \u001b[39m=\u001b[39m \u001b[39m500\u001b[39m, color \u001b[39m=\u001b[39m \u001b[39m'\u001b[39m\u001b[39mred\u001b[39m\u001b[39m'\u001b[39m)\n\u001b[0;32m      <a href='vscode-notebook-cell:/c%3A/Users/Claire/Desktop/Assignments_Northeastern/EECE5644%20Introduction%20to%20Machine%20Learning%20and%20Pattern%20Recognition/ML_Credit_Card_Fraud_Detection/FraudDetection_ClairesEdits.ipynb#ch0000006?line=7'>8</a>\u001b[0m plt\u001b[39m.\u001b[39mxlabel(\u001b[39m'\u001b[39m\u001b[39mAmount (regularized)\u001b[39m\u001b[39m'\u001b[39m)\n\u001b[0;32m      <a href='vscode-notebook-cell:/c%3A/Users/Claire/Desktop/Assignments_Northeastern/EECE5644%20Introduction%20to%20Machine%20Learning%20and%20Pattern%20Recognition/ML_Credit_Card_Fraud_Detection/FraudDetection_ClairesEdits.ipynb#ch0000006?line=8'>9</a>\u001b[0m plt\u001b[39m.\u001b[39mylabel(\u001b[39m'\u001b[39m\u001b[39mOccurrences\u001b[39m\u001b[39m'\u001b[39m)\n",
      "\u001b[1;31mIndexError\u001b[0m: only integers, slices (`:`), ellipsis (`...`), numpy.newaxis (`None`) and integer or boolean arrays are valid indices"
     ]
    }
   ],
   "source": [
    "#Scaling time and amount features\n",
    "data['Amount'] =  StandardScaler().fit_transform(data['Amount'].values.reshape(-1, 1))\n",
    "\n",
    "\n",
    "#Plotting the scaled amount data to see if that improves visualization\n",
    "plt.hist(data['Amount'], bins = 500, color = 'red')\n",
    "plt.xlabel('Amount (regularized)')\n",
    "plt.ylabel('Occurrences')\n",
    "plt.show()\n",
    "\n",
    "plt.hist(data[data['Class'] == 1]['Amount'], bins = 500, color = 'red')\n",
    "plt.xlabel('Amount (regularized)')\n",
    "plt.ylabel('Occurrences')\n",
    "plt.show()\n",
    "print('Min (scaled) amount:', data['Amount'].min())\n",
    "\n",
    "plt.scatter(data[data['Class'] == 0]['Time'], data[data['Class'] == 0]['Amount'], color = 'blue', label = 'Normal')\n",
    "plt.scatter(data[data['Class'] == 1]['Time'], data[data['Class'] == 1]['Amount'], color = 'red', marker = 'x', label = 'Fraud')\n",
    "plt.xlabel('Time (in seconds)')\n",
    "plt.ylabel('Amount (regularized)')\n",
    "plt.legend()\n",
    "plt.show()\n"
   ]
  },
  {
   "cell_type": "markdown",
   "metadata": {},
   "source": [
    "#### Undersample the Data to Balance the Classes"
   ]
  },
  {
   "cell_type": "code",
   "execution_count": null,
   "metadata": {},
   "outputs": [],
   "source": [
    "#Undersampling the dataset to balance the classes\n",
    "frauds = data[data['Class'] == 1]\n",
    "n_frauds = len(frauds)\n",
    "fraud_indx = np.array(data[data['Class'] == 1].index)\n",
    "\n",
    "#Randomly select numbeber of non-fraud transactions to match the number of fraud transactions\n",
    "random_normal_indx = np.random.choice(data[data['Class'] == 0].index, n_frauds, replace = False)\n",
    "random_normal_indx = np.array(random_normal_indx)\n",
    "\n",
    "#Concatenate the indices of the normal and fraud transactions\n",
    "undersample_indx = np.concatenate([fraud_indx, random_normal_indx])\n",
    "undersample_data = data.iloc[undersample_indx]\n",
    "undersample_data.head()\n",
    "\n",
    "print(\"Percentage of Normal Transcations:\", len(undersample_data[undersample_data['Class'] == 0])/len(undersample_data)*100, '%')\n",
    "print(\"Percentage of Fraud Transcations:\", len(undersample_data[undersample_data['Class'] == 1])/len(undersample_data)*100, '%')\n",
    "\n",
    "#Split \n",
    "x = undersample_data.drop(['Class'], axis = 1)\n",
    "y = undersample_data['Class']"
   ]
  },
  {
   "cell_type": "markdown",
   "metadata": {},
   "source": [
    "#### Cross Validation "
   ]
  },
  {
   "cell_type": "code",
   "execution_count": 38,
   "metadata": {},
   "outputs": [
    {
     "name": "stdout",
     "output_type": "stream",
     "text": [
      "C = 0.01 ,Recall: 0.8834103317669963 Precision: 0.983936345344796 F1: 0.9304858941580078\n",
      "C = 0.1 ,Recall: 0.9084928134701457 Precision: 0.9700031937034742 F1: 0.9373996925178808\n",
      "C = 1 ,Recall: 0.9107734596532309 Precision: 0.9678033724781692 F1: 0.9375995581814076\n",
      "C = 10 ,Recall: 0.9108708622506334 Precision: 0.9604482531311799 F1: 0.9340893175657499\n",
      "C = 100 ,Recall: 0.898239283303265 Precision: 0.9666355379770014 F1: 0.9305475238243119\n"
     ]
    }
   ],
   "source": [
    "x_train, x_test, y_train, y_test = train_test_split(x, y, test_size = 0.2, random_state = 4)\n",
    "\n",
    "k = 5\n",
    "k_fold = KFold(n_splits = k, shuffle = True, random_state = 4)\n",
    "c = [0.01, 0.1, 1, 10, 100] #weight values to try\n",
    "\n",
    "for i in range(len(c)):\n",
    "\n",
    "    recall = np.zeros(k)\n",
    "    precision = np.zeros(k)\n",
    "    f1 = np.zeros(k)\n",
    "    indx = 0\n",
    "    for train_index, valid_index in k_fold.split(x_train):\n",
    "        lr = LogisticRegression(C = c[i], penalty= \"l2\", max_iter= 1000) #Logistic Regression model\n",
    "        Xtrain = x_train.iloc[train_index]\n",
    "        Ytrain = y_train.iloc[train_index]\n",
    "        lr.fit(Xtrain, Ytrain) #Fitting the model\n",
    "        y_pred = lr.predict(x_train.iloc[valid_index]) #Predicting on the validation set\n",
    "\n",
    "        #Evaluating the model\n",
    "        recall[indx] = recall_score(y_train.iloc[valid_index], y_pred)\n",
    "        precision[indx] = precision_score(y_train.iloc[valid_index], y_pred)\n",
    "        f1[indx] = f1_score(y_train.iloc[valid_index], y_pred)\n",
    "        indx += 1\n",
    "\n",
    "    avg_recall = np.mean(recall)\n",
    "    avg_precision = np.mean(precision)\n",
    "    avg_f1 = np.mean(f1)\n",
    "    print('C =', c[i], ', Recall:', avg_recall, 'Precision:', avg_precision, 'F1:', avg_f1)\n"
   ]
  },
  {
   "cell_type": "code",
   "execution_count": null,
   "metadata": {},
   "outputs": [],
   "source": []
  }
 ],
 "metadata": {
  "kernelspec": {
   "display_name": "Python 3.9.13 64-bit (windows store)",
   "language": "python",
   "name": "python3"
  },
  "language_info": {
   "codemirror_mode": {
    "name": "ipython",
    "version": 3
   },
   "file_extension": ".py",
   "mimetype": "text/x-python",
   "name": "python",
   "nbconvert_exporter": "python",
   "pygments_lexer": "ipython3",
   "version": "3.9.13"
  },
  "orig_nbformat": 4,
  "vscode": {
   "interpreter": {
    "hash": "b9d51fd8e4a399b07b9f8d77bc255b73d146bcbe1df58066270792b4cbaf9eb7"
   }
  }
 },
 "nbformat": 4,
 "nbformat_minor": 2
}
