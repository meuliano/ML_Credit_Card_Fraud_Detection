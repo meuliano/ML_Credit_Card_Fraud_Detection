{
 "cells": [
  {
   "cell_type": "markdown",
   "metadata": {},
   "source": [
    "# Credit Card Fraud Detection\n",
    "#### By Shadi Bavar, Matthew Euliano, and Claire Parisi\n",
    "\n",
    "\n",
    "##### Importing Required Libraries & Dataset"
   ]
  },
  {
   "cell_type": "code",
   "execution_count": 42,
   "metadata": {},
   "outputs": [],
   "source": [
    "#Importing the libraries\n",
    "import numpy as np # linear algebra\n",
    "import pandas as pd # data processing, CSV file I/O (e.g. pd.read_csv)\n",
    "import matplotlib.pyplot as plt\n",
    "import seaborn as sns\n",
    "from sklearn.preprocessing import StandardScaler\n",
    "from sklearn.linear_model import LogisticRegression\n",
    "from sklearn.model_selection import train_test_split, KFold, cross_val_score\n",
    "from sklearn.metrics import confusion_matrix,precision_recall_curve,auc,roc_auc_score,roc_curve,recall_score,classification_report, f1_score, accuracy_score, precision_score, recall_score\n"
   ]
  },
  {
   "cell_type": "code",
   "execution_count": 43,
   "metadata": {},
   "outputs": [
    {
     "data": {
      "text/html": [
       "<div>\n",
       "<style scoped>\n",
       "    .dataframe tbody tr th:only-of-type {\n",
       "        vertical-align: middle;\n",
       "    }\n",
       "\n",
       "    .dataframe tbody tr th {\n",
       "        vertical-align: top;\n",
       "    }\n",
       "\n",
       "    .dataframe thead th {\n",
       "        text-align: right;\n",
       "    }\n",
       "</style>\n",
       "<table border=\"1\" class=\"dataframe\">\n",
       "  <thead>\n",
       "    <tr style=\"text-align: right;\">\n",
       "      <th></th>\n",
       "      <th>Time</th>\n",
       "      <th>V1</th>\n",
       "      <th>V2</th>\n",
       "      <th>V3</th>\n",
       "      <th>V4</th>\n",
       "      <th>V5</th>\n",
       "      <th>V6</th>\n",
       "      <th>V7</th>\n",
       "      <th>V8</th>\n",
       "      <th>V9</th>\n",
       "      <th>...</th>\n",
       "      <th>V21</th>\n",
       "      <th>V22</th>\n",
       "      <th>V23</th>\n",
       "      <th>V24</th>\n",
       "      <th>V25</th>\n",
       "      <th>V26</th>\n",
       "      <th>V27</th>\n",
       "      <th>V28</th>\n",
       "      <th>Amount</th>\n",
       "      <th>Class</th>\n",
       "    </tr>\n",
       "  </thead>\n",
       "  <tbody>\n",
       "    <tr>\n",
       "      <th>0</th>\n",
       "      <td>0.0</td>\n",
       "      <td>-1.359807</td>\n",
       "      <td>-0.072781</td>\n",
       "      <td>2.536347</td>\n",
       "      <td>1.378155</td>\n",
       "      <td>-0.338321</td>\n",
       "      <td>0.462388</td>\n",
       "      <td>0.239599</td>\n",
       "      <td>0.098698</td>\n",
       "      <td>0.363787</td>\n",
       "      <td>...</td>\n",
       "      <td>-0.018307</td>\n",
       "      <td>0.277838</td>\n",
       "      <td>-0.110474</td>\n",
       "      <td>0.066928</td>\n",
       "      <td>0.128539</td>\n",
       "      <td>-0.189115</td>\n",
       "      <td>0.133558</td>\n",
       "      <td>-0.021053</td>\n",
       "      <td>149.62</td>\n",
       "      <td>0</td>\n",
       "    </tr>\n",
       "    <tr>\n",
       "      <th>1</th>\n",
       "      <td>0.0</td>\n",
       "      <td>1.191857</td>\n",
       "      <td>0.266151</td>\n",
       "      <td>0.166480</td>\n",
       "      <td>0.448154</td>\n",
       "      <td>0.060018</td>\n",
       "      <td>-0.082361</td>\n",
       "      <td>-0.078803</td>\n",
       "      <td>0.085102</td>\n",
       "      <td>-0.255425</td>\n",
       "      <td>...</td>\n",
       "      <td>-0.225775</td>\n",
       "      <td>-0.638672</td>\n",
       "      <td>0.101288</td>\n",
       "      <td>-0.339846</td>\n",
       "      <td>0.167170</td>\n",
       "      <td>0.125895</td>\n",
       "      <td>-0.008983</td>\n",
       "      <td>0.014724</td>\n",
       "      <td>2.69</td>\n",
       "      <td>0</td>\n",
       "    </tr>\n",
       "    <tr>\n",
       "      <th>2</th>\n",
       "      <td>1.0</td>\n",
       "      <td>-1.358354</td>\n",
       "      <td>-1.340163</td>\n",
       "      <td>1.773209</td>\n",
       "      <td>0.379780</td>\n",
       "      <td>-0.503198</td>\n",
       "      <td>1.800499</td>\n",
       "      <td>0.791461</td>\n",
       "      <td>0.247676</td>\n",
       "      <td>-1.514654</td>\n",
       "      <td>...</td>\n",
       "      <td>0.247998</td>\n",
       "      <td>0.771679</td>\n",
       "      <td>0.909412</td>\n",
       "      <td>-0.689281</td>\n",
       "      <td>-0.327642</td>\n",
       "      <td>-0.139097</td>\n",
       "      <td>-0.055353</td>\n",
       "      <td>-0.059752</td>\n",
       "      <td>378.66</td>\n",
       "      <td>0</td>\n",
       "    </tr>\n",
       "    <tr>\n",
       "      <th>3</th>\n",
       "      <td>1.0</td>\n",
       "      <td>-0.966272</td>\n",
       "      <td>-0.185226</td>\n",
       "      <td>1.792993</td>\n",
       "      <td>-0.863291</td>\n",
       "      <td>-0.010309</td>\n",
       "      <td>1.247203</td>\n",
       "      <td>0.237609</td>\n",
       "      <td>0.377436</td>\n",
       "      <td>-1.387024</td>\n",
       "      <td>...</td>\n",
       "      <td>-0.108300</td>\n",
       "      <td>0.005274</td>\n",
       "      <td>-0.190321</td>\n",
       "      <td>-1.175575</td>\n",
       "      <td>0.647376</td>\n",
       "      <td>-0.221929</td>\n",
       "      <td>0.062723</td>\n",
       "      <td>0.061458</td>\n",
       "      <td>123.50</td>\n",
       "      <td>0</td>\n",
       "    </tr>\n",
       "    <tr>\n",
       "      <th>4</th>\n",
       "      <td>2.0</td>\n",
       "      <td>-1.158233</td>\n",
       "      <td>0.877737</td>\n",
       "      <td>1.548718</td>\n",
       "      <td>0.403034</td>\n",
       "      <td>-0.407193</td>\n",
       "      <td>0.095921</td>\n",
       "      <td>0.592941</td>\n",
       "      <td>-0.270533</td>\n",
       "      <td>0.817739</td>\n",
       "      <td>...</td>\n",
       "      <td>-0.009431</td>\n",
       "      <td>0.798278</td>\n",
       "      <td>-0.137458</td>\n",
       "      <td>0.141267</td>\n",
       "      <td>-0.206010</td>\n",
       "      <td>0.502292</td>\n",
       "      <td>0.219422</td>\n",
       "      <td>0.215153</td>\n",
       "      <td>69.99</td>\n",
       "      <td>0</td>\n",
       "    </tr>\n",
       "  </tbody>\n",
       "</table>\n",
       "<p>5 rows × 31 columns</p>\n",
       "</div>"
      ],
      "text/plain": [
       "   Time        V1        V2        V3        V4        V5        V6        V7  \\\n",
       "0   0.0 -1.359807 -0.072781  2.536347  1.378155 -0.338321  0.462388  0.239599   \n",
       "1   0.0  1.191857  0.266151  0.166480  0.448154  0.060018 -0.082361 -0.078803   \n",
       "2   1.0 -1.358354 -1.340163  1.773209  0.379780 -0.503198  1.800499  0.791461   \n",
       "3   1.0 -0.966272 -0.185226  1.792993 -0.863291 -0.010309  1.247203  0.237609   \n",
       "4   2.0 -1.158233  0.877737  1.548718  0.403034 -0.407193  0.095921  0.592941   \n",
       "\n",
       "         V8        V9  ...       V21       V22       V23       V24       V25  \\\n",
       "0  0.098698  0.363787  ... -0.018307  0.277838 -0.110474  0.066928  0.128539   \n",
       "1  0.085102 -0.255425  ... -0.225775 -0.638672  0.101288 -0.339846  0.167170   \n",
       "2  0.247676 -1.514654  ...  0.247998  0.771679  0.909412 -0.689281 -0.327642   \n",
       "3  0.377436 -1.387024  ... -0.108300  0.005274 -0.190321 -1.175575  0.647376   \n",
       "4 -0.270533  0.817739  ... -0.009431  0.798278 -0.137458  0.141267 -0.206010   \n",
       "\n",
       "        V26       V27       V28  Amount  Class  \n",
       "0 -0.189115  0.133558 -0.021053  149.62      0  \n",
       "1  0.125895 -0.008983  0.014724    2.69      0  \n",
       "2 -0.139097 -0.055353 -0.059752  378.66      0  \n",
       "3 -0.221929  0.062723  0.061458  123.50      0  \n",
       "4  0.502292  0.219422  0.215153   69.99      0  \n",
       "\n",
       "[5 rows x 31 columns]"
      ]
     },
     "execution_count": 43,
     "metadata": {},
     "output_type": "execute_result"
    }
   ],
   "source": [
    "#Importing the Data\n",
    "data = pd.read_csv('creditcard.csv')\n",
    "data.head()"
   ]
  },
  {
   "cell_type": "markdown",
   "metadata": {},
   "source": [
    "##### Visualization"
   ]
  },
  {
   "cell_type": "code",
   "execution_count": 44,
   "metadata": {},
   "outputs": [
    {
     "data": {
      "image/png": "[encoded data removed]",
      "text/plain": [
       "<Figure size 432x288 with 1 Axes>"
      ]
     },
     "metadata": {
      "needs_background": "light"
     },
     "output_type": "display_data"
    },
    {
     "name": "stdout",
     "output_type": "stream",
     "text": [
      "Number of fraud transactions: 492 ( 0.17 %)\n",
      "Number of non-fraud transactions: 284315 ( 99.83 %)\n"
     ]
    },
    {
     "data": {
      "image/png": "[encoded data removed]",
      "text/plain": [
       "<Figure size 432x288 with 1 Axes>"
      ]
     },
     "metadata": {
      "needs_background": "light"
     },
     "output_type": "display_data"
    },
    {
     "data": {
      "image/png": "[encoded data removed]",
      "text/plain": [
       "<Figure size 432x288 with 1 Axes>"
      ]
     },
     "metadata": {
      "needs_background": "light"
     },
     "output_type": "display_data"
    },
    {
     "data": {
      "image/png": "[encoded data removed]",
      "text/plain": [
       "<Figure size 432x288 with 1 Axes>"
      ]
     },
     "metadata": {
      "needs_background": "light"
     },
     "output_type": "display_data"
    },
    {
     "data": {
      "image/png": "[encoded data removed]",
      "text/plain": [
       "<Figure size 432x288 with 1 Axes>"
      ]
     },
     "metadata": {
      "needs_background": "light"
     },
     "output_type": "display_data"
    },
    {
     "data": {
      "image/png": "[encoded data removed]",
      "text/plain": [
       "<Figure size 432x288 with 1 Axes>"
      ]
     },
     "metadata": {
      "needs_background": "light"
     },
     "output_type": "display_data"
    }
   ],
   "source": [
    "#Plot number of each class: data is skewed\n",
    "plt.hist(data['Class'], bins = [-.4, .4, .6, 1.4], color = 'red')\n",
    "plt.xlabel('Class')\n",
    "plt.xticks([0, 1])\n",
    "plt.ylabel('Occurrences')\n",
    "plt.show()\n",
    "\n",
    "print('Number of fraud transactions:', len(data[data['Class'] == 1]), '(', round(len(data[data['Class'] == 1])/len(data)*100, 2), '%)')\n",
    "print('Number of non-fraud transactions:', len(data[data['Class'] == 0]), '(', round(len(data[data['Class'] == 0])/len(data)*100, 2), '%)')\n",
    "\n",
    "#Ditrubution of transaction amounts\n",
    "plt.hist(data['Amount'], bins = 2000, color = 'red')\n",
    "plt.xlabel('Amount ($)')\n",
    "plt.ylabel('Occurrences')\n",
    "plt.ylim([0, 30000])\n",
    "plt.show()\n",
    "\n",
    "#Distribution of fraudulent transaction amounts\n",
    "plt.hist(data[data['Class'] == 1]['Amount'], bins = 2000, color = 'red')\n",
    "plt.xlabel('Amount ($)')\n",
    "plt.ylabel('Occurrences')\n",
    "plt.ylim([0, 30])\n",
    "plt.show()\n",
    "\n",
    "#Distribution of transaction times\n",
    "plt.hist(data['Time'], bins = 2000)\n",
    "plt.xlabel('Time (in seconds)')\n",
    "plt.ylabel('Occurrences')\n",
    "plt.show()\n",
    "\n",
    "#Distribution of fraudulent transaction times\n",
    "plt.hist(data[data['Class'] == 1]['Time'], bins = 2000)\n",
    "plt.xlabel('Time (in seconds)')\n",
    "plt.ylabel('Occurrences')\n",
    "plt.show()\n",
    "\n",
    "#Time vs Amount Feature Plot\n",
    "plt.scatter(data[data['Class'] == 0]['Time'], data[data['Class'] == 0]['Amount'], color = 'blue', label = 'Normal')\n",
    "plt.scatter(data[data['Class'] == 1]['Time'], data[data['Class'] == 1]['Amount'], color = 'red', marker = 'x', label = 'Fraud')\n",
    "plt.xlabel('Time (in seconds)')\n",
    "plt.ylabel('Amount ($)')\n",
    "plt.legend()\n",
    "plt.show()"
   ]
  },
  {
   "cell_type": "markdown",
   "metadata": {},
   "source": [
    "#### Regularize Features & Data Prep"
   ]
  },
  {
   "cell_type": "code",
   "execution_count": 45,
   "metadata": {},
   "outputs": [],
   "source": [
    "#Scaling amount \n",
    "std_scale = StandardScaler()\n",
    "data['Amount'] = std_scale.fit_transform(data['Amount'].values.reshape(-1, 1))\n",
    "\n",
    "#Split dataset into inputs (x) and labels (y)\n",
    "x = data.drop(['Class'], axis = 1)\n",
    "y = data['Class']"
   ]
  },
  {
   "cell_type": "markdown",
   "metadata": {},
   "source": [
    "#### Break dataset into Training and Testing Sets Representative of the Imbalanced Dataset"
   ]
  },
  {
   "cell_type": "code",
   "execution_count": 46,
   "metadata": {},
   "outputs": [
    {
     "name": "stdout",
     "output_type": "stream",
     "text": [
      "Training set frauds: 0.17 %\n",
      "Test set frauds: 0.17 %\n"
     ]
    }
   ],
   "source": [
    "#split dataset into training and test sets\n",
    "x_train, x_test, y_train, y_test = train_test_split(x, y, test_size = 0.3, random_state = 0, stratify = y)\n",
    "\n",
    "#check distributions of data\n",
    "fraud_train_pct = y_train[y_train== 1].value_counts()/len(y_train)*100\n",
    "fraud_test_pct = y_test[y_test == 1].value_counts()/len(y_test)*100\n",
    "\n",
    "print('Training set frauds:', round(fraud_train_pct[1], 2), '%')\n",
    "print('Test set frauds:', round(fraud_test_pct[1], 2), '%')"
   ]
  },
  {
   "cell_type": "markdown",
   "metadata": {},
   "source": [
    "#### Undersample the Training Set to Balance the Classes"
   ]
  },
  {
   "cell_type": "code",
   "execution_count": 47,
   "metadata": {},
   "outputs": [
    {
     "name": "stdout",
     "output_type": "stream",
     "text": [
      "Training set frauds: 50.0 %\n",
      "Training set non-frauds: 50.0 %\n"
     ]
    }
   ],
   "source": [
    "#find instances of fraud in training set\n",
    "train_fraud_indices = np.array(y_train[y_train== 1].index)\n",
    "n_train_fraud = len(train_fraud_indices)\n",
    "train_nonfraud_indices = np.array(y_train[y_train== 0].index)\n",
    "\n",
    "#Randomly select number of non-fraud transactions to match the number of fraud transactions\n",
    "random_indices = np.random.choice(train_nonfraud_indices, n_train_fraud, replace = False)\n",
    "undersample_indices = np.concatenate([train_fraud_indices, random_indices])\n",
    "\n",
    "#Resample the training data\n",
    "x_train_u  = x_train.loc[undersample_indices]\n",
    "y_train_u = y_train.loc[undersample_indices]\n",
    "\n",
    "#Check the new distribution of data\n",
    "fraud_train_pct_u = y_train_u[y_train_u== 1].value_counts()/len(y_train_u)*100\n",
    "nonfraud_train_pct_u = y_train_u[y_train_u== 0].value_counts()/len(y_train_u)*100\n",
    "print('Training set frauds:', round(fraud_train_pct_u[1], 2), '%')\n",
    "print('Training set non-frauds:', round(nonfraud_train_pct_u[0], 2), '%')"
   ]
  },
  {
   "cell_type": "markdown",
   "metadata": {},
   "source": [
    "##### Cross Validation for Logisitc Regression Hyperparameter Selection"
   ]
  },
  {
   "cell_type": "code",
   "execution_count": 48,
   "metadata": {},
   "outputs": [
    {
     "name": "stdout",
     "output_type": "stream",
     "text": [
      "C = 0.01 , Recall: 0.8712941099886968 Precision: 0.9830933567456833 F1: 0.9229681057388911\n",
      "C = 0.1 , Recall: 0.9183318440140213 Precision: 0.9618892080553497 F1: 0.9390258220951813\n",
      "C = 1 , Recall: 0.9054286182075698 Precision: 0.968031976709596 F1: 0.9349961443808242\n",
      "C = 10 , Recall: 0.9054286182075698 Precision: 0.9594667190775681 F1: 0.9305957582686979\n",
      "C = 100 , Recall: 0.9003653270683293 Precision: 0.9538329162606669 F1: 0.9252624249353646\n",
      "Select 0.1 as the best C value\n"
     ]
    }
   ],
   "source": [
    "#Create function for logisitic regression k_fold cross validation\n",
    "def lr_kfold_cv(x_train,y_train,k):\n",
    "    k_fold = KFold(n_splits = k, shuffle = True, random_state = 4)\n",
    "    c = [0.01, 0.1, 1, 10, 100] #weight values to try\n",
    "    scores = np.zeros(len(c))\n",
    "    for i in range(len(c)):\n",
    "\n",
    "        recall = np.zeros(k)\n",
    "        precision = np.zeros(k)\n",
    "        f1 = np.zeros(k)\n",
    "        indx = 0\n",
    "        for train_index, valid_index in k_fold.split(x_train):\n",
    "            lr = LogisticRegression(C = c[i], penalty= \"l2\", max_iter= 1000) #Logistic Regression model\n",
    "            lr.fit(x_train.iloc[train_index], y_train.iloc[train_index]) #Fitting the model\n",
    "            y_pred = lr.predict(x_train.iloc[valid_index]) #Predicting on the validation set\n",
    "\n",
    "            #Evaluating the model\n",
    "            recall[indx] = recall_score(y_train.iloc[valid_index], y_pred)\n",
    "            precision[indx] = precision_score(y_train.iloc[valid_index], y_pred)\n",
    "            f1[indx] = f1_score(y_train.iloc[valid_index], y_pred)\n",
    "            indx += 1\n",
    "\n",
    "        avg_recall = np.mean(recall)\n",
    "        avg_precision = np.mean(precision)\n",
    "        avg_f1 = np.mean(f1)\n",
    "        scores[i] = avg_f1\n",
    "        print('C =', c[i], ', Recall:', avg_recall, 'Precision:', avg_precision, 'F1:', avg_f1)\n",
    "\n",
    "    #Select model with best F1 score\n",
    "    c_val = c[np.argmax(scores)]\n",
    "    print('Select', c_val, 'as the best C value')\n",
    "    return c_val\n",
    "\n",
    "#5 fold CV on Undersampled Dataset to select weight parameter\n",
    "c = lr_kfold_cv(x_train_u, y_train_u, 5)"
   ]
  },
  {
   "cell_type": "markdown",
   "metadata": {},
   "source": [
    "#### Training and Testing the Model"
   ]
  },
  {
   "cell_type": "code",
   "execution_count": 73,
   "metadata": {},
   "outputs": [
    {
     "name": "stdout",
     "output_type": "stream",
     "text": [
      "[[82165  3130]\n",
      " [   12   136]]\n"
     ]
    },
    {
     "data": {
      "image/png": "[encoded data removed]",
      "text/plain": [
       "<Figure size 432x288 with 2 Axes>"
      ]
     },
     "metadata": {
      "needs_background": "light"
     },
     "output_type": "display_data"
    },
    {
     "name": "stdout",
     "output_type": "stream",
     "text": [
      "Recall: 0.918918918918919 Precision: 0.041641151255358236 F1: 0.07967193907439953\n"
     ]
    },
    {
     "data": {
      "image/png": "[encoded data removed]",
      "text/plain": [
       "<Figure size 432x288 with 1 Axes>"
      ]
     },
     "metadata": {
      "needs_background": "light"
     },
     "output_type": "display_data"
    },
    {
     "name": "stdout",
     "output_type": "stream",
     "text": [
      "AUC: 0.9411113734051773\n"
     ]
    }
   ],
   "source": [
    "#Create model with best weight parameter\n",
    "lr = LogisticRegression(C = c, penalty= \"l2\", max_iter= 1000) #Logistic Regression model\n",
    "lr.fit(x_train_u, y_train_u) #Fitting the model\n",
    "\n",
    "#Predict on the (skewed) test set\n",
    "y_pred = lr.predict(x_test) \n",
    "\n",
    "#Evaluate the model\n",
    "\n",
    "#Confusion Matrix\n",
    "cnf_matrix = confusion_matrix(y_test, y_pred)\n",
    "print(cnf_matrix)\n",
    "fig = plt.figure()\n",
    "plt.imshow(cnf_matrix, interpolation='nearest', cmap=plt.cm.Blues)\n",
    "plt.colorbar()\n",
    "tick_marks = np.arange(2)\n",
    "plt.xticks(tick_marks, ['Normal', 'Fraud'])\n",
    "plt.yticks(tick_marks, ['Normal', 'Fraud'])\n",
    "plt.xlabel('Predicted Label')\n",
    "plt.ylabel('Actual Label')\n",
    "plt.text(0, 0, '{}'.format(cnf_matrix[0,0]), ha='center', va='center', color='white', fontsize=12)\n",
    "plt.text(1, 0, '{}'.format(cnf_matrix[0,1]), ha='center', va='center', color='black', fontsize=12)\n",
    "plt.text(0, 1, '{}'.format(cnf_matrix[1,0]), ha='center', va='center', color='black', fontsize=12)\n",
    "plt.text(1, 1, '{}'.format(cnf_matrix[1,1]), ha='center', va='center', color='black', fontsize=12)\n",
    "\n",
    "plt.show()\n",
    "\n",
    "#Precision and Recall and F1 Score\n",
    "recall = recall_score(y_test, y_pred)\n",
    "precision = precision_score(y_test, y_pred)\n",
    "f1 = f1_score(y_test, y_pred)\n",
    "print('Recall:', recall, 'Precision:', precision, 'F1:', f1)\n",
    "\n",
    "#Plot ROC curve\n",
    "fpr, tpr, thresholds = roc_curve(y_test, y_pred)\n",
    "fig = plt.figure()\n",
    "plt.plot(fpr, tpr)\n",
    "plt.xlabel('False Positive Rate')\n",
    "plt.ylabel('True Positive Rate')\n",
    "plt.show()\n",
    "\n",
    "print('AUC:', auc(fpr, tpr))"
   ]
  },
  {
   "cell_type": "code",
   "execution_count": 51,
   "metadata": {},
   "outputs": [],
   "source": [
    "# #Use the whole dataset\n",
    "# x = data.drop(['Class'], axis = 1)\n",
    "# y = data['Class']\n",
    "# x_train, x_test, y_train, y_test = train_test_split(x, y, test_size = 0.2, random_state = 4)\n",
    "\n",
    "# lr = LogisticRegression(C = c_val, penalty= \"l2\", max_iter= 1000) #Logistic Regression model\n",
    "# lr.fit(x_train, y_train) #Fitting the model\n",
    "# y_pred = lr.predict(x_test) #Predicting on the test set\n",
    "\n",
    "# recall = recall_score(y_test, y_pred)\n",
    "# precision = precision_score(y_test, y_pred)\n",
    "# f1 = f1_score(y_test, y_pred)\n",
    "# print('Recall:', recall, 'Precision:', precision, 'F1:', f1)\n",
    "\n",
    "# cnf_matrix = confusion_matrix(y_test, y_pred)\n",
    "# print(cnf_matrix)"
   ]
  }
 ],
 "metadata": {
  "kernelspec": {
   "display_name": "Python 3.9.13 64-bit (windows store)",
   "language": "python",
   "name": "python3"
  },
  "language_info": {
   "codemirror_mode": {
    "name": "ipython",
    "version": 3
   },
   "file_extension": ".py",
   "mimetype": "text/x-python",
   "name": "python",
   "nbconvert_exporter": "python",
   "pygments_lexer": "ipython3",
   "version": "3.9.13"
  },
  "orig_nbformat": 4,
  "vscode": {
   "interpreter": {
    "hash": "b9d51fd8e4a399b07b9f8d77bc255b73d146bcbe1df58066270792b4cbaf9eb7"
   }
  }
 },
 "nbformat": 4,
 "nbformat_minor": 2
}
