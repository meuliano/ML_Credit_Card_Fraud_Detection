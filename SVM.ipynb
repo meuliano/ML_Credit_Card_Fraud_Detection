{
 "cells": [
  {
   "cell_type": "markdown",
   "metadata": {},
   "source": [
    "# Credit Card Fraud Detection\n",
    "#### By Shadi Bavar, Matthew Euliano, and Claire Parisi\n",
    "\n",
    "\n",
    "##### Importing Required Libraries & Dataset"
   ]
  },
  {
   "cell_type": "code",
   "execution_count": 1,
   "metadata": {},
   "outputs": [],
   "source": [
    "#Importing the libraries\n",
    "import numpy as np # linear algebra\n",
    "import pandas as pd # data processing\n",
    "import matplotlib.pyplot as plt\n",
    "import seaborn as sns\n",
    "from sklearn.preprocessing import StandardScaler\n",
    "from sklearn.linear_model import LogisticRegression\n",
    "from sklearn.model_selection import train_test_split, KFold\n",
    "from sklearn.metrics import confusion_matrix,ConfusionMatrixDisplay,precision_recall_curve,auc,roc_auc_score,roc_curve,recall_score,classification_report, f1_score, accuracy_score, precision_score, recall_score\n",
    "from sklearn.svm import SVC\n",
    "from sklearn.model_selection import GridSearchCV"
   ]
  },
  {
   "cell_type": "code",
   "execution_count": 2,
   "metadata": {},
   "outputs": [],
   "source": [
    "# Import Data\n",
    "data = pd.read_csv('creditcard.csv')\n",
    "\n",
    "# Get samples for each class\n",
    "fraudsDF = data[data.Class == 1]\n",
    "normalDF = data[data.Class == 0]"
   ]
  },
  {
   "cell_type": "markdown",
   "metadata": {},
   "source": [
    "#### Regularize Features & Data Prep"
   ]
  },
  {
   "cell_type": "code",
   "execution_count": 3,
   "metadata": {},
   "outputs": [],
   "source": [
    "#Scaling amount \n",
    "std_scale = StandardScaler()\n",
    "data['Amount'] = std_scale.fit_transform(data['Amount'].values.reshape(-1, 1))\n",
    "data['Time'] = std_scale.fit_transform(data['Time'].values.reshape(-1, 1))\n",
    "# data = data.drop(['Time'], axis=1)\n",
    "\n",
    "#Split dataset into inputs (x) and labels (y)\n",
    "x = data.drop(['Class'], axis = 1)\n",
    "y = data['Class']"
   ]
  },
  {
   "cell_type": "markdown",
   "metadata": {},
   "source": [
    "#### Break dataset into Training and Testing Sets Representative of the Imbalanced Dataset"
   ]
  },
  {
   "cell_type": "code",
   "execution_count": 4,
   "metadata": {},
   "outputs": [],
   "source": [
    "#split dataset into training and test sets\n",
    "x_train, x_test, y_train, y_test = train_test_split(x, y, test_size = 0.2, random_state = 0, stratify = y)"
   ]
  },
  {
   "cell_type": "markdown",
   "metadata": {},
   "source": [
    "#### Undersample the Training Set to Balance the Classes"
   ]
  },
  {
   "cell_type": "code",
   "execution_count": 5,
   "metadata": {},
   "outputs": [],
   "source": [
    "\n",
    "#find instances of fraud in training set\n",
    "train_fraud_indices = np.array(y_train[y_train== 1].index)\n",
    "n_train_fraud = len(train_fraud_indices)\n",
    "train_nonfraud_indices = np.array(y_train[y_train== 0].index)\n",
    "\n",
    "#Randomly select number of non-fraud transactions to match the number of fraud transactions\n",
    "random_indices = np.random.choice(train_nonfraud_indices, n_train_fraud, replace = False)\n",
    "undersample_indices = np.concatenate([train_fraud_indices, random_indices])\n",
    "\n",
    "#Resample the training data\n",
    "x_train_u  = x_train.loc[undersample_indices]\n",
    "y_train_u = y_train.loc[undersample_indices]"
   ]
  },
  {
   "cell_type": "markdown",
   "metadata": {},
   "source": [
    "## SVM"
   ]
  },
  {
   "cell_type": "markdown",
   "metadata": {},
   "source": [
    "### Hyperparameter Selection via Grid Search"
   ]
  },
  {
   "cell_type": "code",
   "execution_count": 6,
   "metadata": {},
   "outputs": [],
   "source": [
    "def Grid_Search_SVM(parameters, score, x_train, y_train):\n",
    "    print(\"# Tuning hyper-parameters for %s\" % score)\n",
    "\n",
    "    clf = GridSearchCV(SVC(probability=True), parameters, scoring=\"%s_macro\" % score,n_jobs=-1)\n",
    "    clf.fit(x_train, y_train)\n",
    "\n",
    "    print(\"Best parameters set found on development set:\")\n",
    "    print(clf.best_params_)\n",
    "\n",
    "    return clf.best_estimator_"
   ]
  },
  {
   "cell_type": "code",
   "execution_count": 7,
   "metadata": {},
   "outputs": [],
   "source": [
    "def model_performance(model):\n",
    "    # Create Confusion Matrix\n",
    "    prediction = model.predict(x_test)\n",
    "    cnf_matrix = confusion_matrix(y_test, prediction)\n",
    "    fruads = y_test[y_test == 1]\n",
    "    non_fruads = y_test[y_test == 0]\n",
    "\n",
    "    #Calculate metrics\n",
    "    pfa = cnf_matrix[0][1]/(len(non_fruads))\n",
    "    pmd = cnf_matrix[1][0]/(len(fruads))\n",
    "    trpr = cnf_matrix[1][1]/(len(fruads))\n",
    "\n",
    "    #Precision and Recall and F1 Score\n",
    "    recall = recall_score(y_test, prediction)\n",
    "    precision = precision_score(y_test, prediction)\n",
    "    f1 = f1_score(y_test, prediction)\n",
    "    print('Recall:', recall, '\\nPrecision:', precision, '\\nF1:', f1)\n",
    "\n",
    "    #Plot confusion matrix\n",
    "    fig = plt.figure()\n",
    "    plt.imshow(cnf_matrix, interpolation='nearest', cmap=plt.cm.Blues)\n",
    "    plt.colorbar()\n",
    "    tick_marks = np.arange(2)\n",
    "    plt.xticks(tick_marks, ['Normal', 'Fraud'])\n",
    "    plt.yticks(tick_marks, ['Normal', 'Fraud'])\n",
    "    plt.xlabel('Predicted Label')\n",
    "    plt.ylabel('Actual Label')\n",
    "    plt.text(0, 0, '{}'.format(cnf_matrix[0,0]), ha='center', va='center', color='white', fontsize=12)\n",
    "    plt.text(1, 0, '{}'.format(cnf_matrix[0,1]), ha='center', va='center', color='black', fontsize=12)\n",
    "    plt.text(0, 1, '{}'.format(cnf_matrix[1,0]), ha='center', va='center', color='black', fontsize=12)\n",
    "    plt.text(1, 1, '{}'.format(cnf_matrix[1,1]), ha='center', va='center', color='black', fontsize=12)\n",
    "    plt.show()\n",
    "\n",
    "    y_pred = model.fit(x_train_u, y_train_u).decision_function(x_test)\n",
    "    # fpr, tpr, thresholds = roc_curve(y_test, y_pred, drop_intermediate=False) #Can just show on 1 roc curve because it ends up being the same in both cases with just different threshold\n",
    "    # fig = plt.figure()\n",
    "    # plt.plot(fpr, tpr)\n",
    "    # plt.plot(pfa,trpr, 'ro', label = \"Baseline Model\")\n",
    "    # plt.show()\n",
    "\n",
    "    return pfa, trpr, y_pred, cnf_matrix"
   ]
  },
  {
   "cell_type": "markdown",
   "metadata": {},
   "source": [
    "### RBF Kernel"
   ]
  },
  {
   "cell_type": "code",
   "execution_count": 8,
   "metadata": {},
   "outputs": [
    {
     "name": "stdout",
     "output_type": "stream",
     "text": [
      "# Tuning hyper-parameters for recall\n",
      "Best parameters set found on development set:\n",
      "{'C': 100, 'gamma': 0.001, 'kernel': 'rbf'}\n",
      "\n",
      "Recall: 0.8673469387755102 \n",
      "Precision: 0.0886339937434828 \n",
      "F1: 0.1608325449385052\n"
     ]
    },
    {
     "data": {
      "image/png": "[encoded data removed]",
      "text/plain": [
       "<Figure size 432x288 with 2 Axes>"
      ]
     },
     "metadata": {
      "needs_background": "light"
     },
     "output_type": "display_data"
    }
   ],
   "source": [
    "tuning_params_rbf = {\"kernel\": [\"rbf\"], \"gamma\": ['scale', 0.01,1e-3, 1e-4], \"C\": [1, 10, 100, 1000]}\n",
    "\n",
    "opt_model_rbf = Grid_Search_SVM(tuning_params_rbf, 'recall', x_train_u, y_train_u)\n",
    "print()\n",
    "\n",
    "pfa_rbf, trpr_rbf, y_pred_rbf,cnf_rbf = model_performance(opt_model_rbf)\n"
   ]
  },
  {
   "cell_type": "markdown",
   "metadata": {},
   "source": [
    "### Linear Kernel"
   ]
  },
  {
   "cell_type": "code",
   "execution_count": 9,
   "metadata": {},
   "outputs": [
    {
     "name": "stdout",
     "output_type": "stream",
     "text": [
      "# Tuning hyper-parameters for recall\n",
      "Best parameters set found on development set:\n",
      "{'C': 1, 'class_weight': 'balanced', 'kernel': 'linear'}\n",
      "\n",
      "Recall: 0.8775510204081632 \n",
      "Precision: 0.06125356125356125 \n",
      "F1: 0.11451398135818908\n"
     ]
    },
    {
     "data": {
      "image/png": "[encoded data removed]",
      "text/plain": [
       "<Figure size 432x288 with 2 Axes>"
      ]
     },
     "metadata": {
      "needs_background": "light"
     },
     "output_type": "display_data"
    }
   ],
   "source": [
    "tuning_params_lin = {\"kernel\": [\"linear\"], \"C\": [1, 10, 100, 1000], \"class_weight\": ['balanced',{0:1, 1:1.25},{0:1, 1:1.5},{0:1, 1:1.75}]}\n",
    "\n",
    "opt_model_lin = Grid_Search_SVM(tuning_params_lin, 'recall', x_train_u, y_train_u)\n",
    "print()\n",
    "\n",
    "pfa_lin, trpr_lin, y_pred_lin, cnf_lin = model_performance(opt_model_lin)"
   ]
  },
  {
   "cell_type": "markdown",
   "metadata": {},
   "source": [
    "### Polynomial Kernel"
   ]
  },
  {
   "cell_type": "code",
   "execution_count": 10,
   "metadata": {},
   "outputs": [
    {
     "name": "stdout",
     "output_type": "stream",
     "text": [
      "# Tuning hyper-parameters for recall\n",
      "Best parameters set found on development set:\n",
      "{'C': 100, 'degree': 3, 'gamma': 0.01, 'kernel': 'poly'}\n",
      "\n",
      "Recall: 0.8775510204081632 \n",
      "Precision: 0.06471030850263355 \n",
      "F1: 0.12053258584442886\n"
     ]
    },
    {
     "data": {
      "image/png": "[encoded data removed]",
      "text/plain": [
       "<Figure size 432x288 with 2 Axes>"
      ]
     },
     "metadata": {
      "needs_background": "light"
     },
     "output_type": "display_data"
    }
   ],
   "source": [
    "tuning_params_poly = {\"kernel\": [\"poly\"], \"gamma\": ['scale', 0.01,1e-3, 1e-4], \"degree\":[3,4,5], \"C\": [1, 10, 100, 1000]}\n",
    "\n",
    "opt_model_poly = Grid_Search_SVM(tuning_params_poly, 'recall', x_train_u, y_train_u)\n",
    "print()\n",
    "\n",
    "pfa_poly, trpr_poly, y_pred_poly, cnf_poly = model_performance(opt_model_poly)"
   ]
  },
  {
   "cell_type": "markdown",
   "metadata": {},
   "source": [
    "#### Stacked ROC Curves"
   ]
  },
  {
   "cell_type": "code",
   "execution_count": 11,
   "metadata": {},
   "outputs": [
    {
     "data": {
      "image/png": "[encoded data removed]",
      "text/plain": [
       "<Figure size 576x576 with 1 Axes>"
      ]
     },
     "metadata": {
      "needs_background": "light"
     },
     "output_type": "display_data"
    }
   ],
   "source": [
    "\n",
    "fig = plt.figure(figsize=[8,8])\n",
    "fpr, tpr, thresholds = roc_curve(y_test, y_pred_poly, drop_intermediate=False)\n",
    "plt.plot(fpr, tpr, 'r')\n",
    "plt.plot(pfa_poly,trpr_poly, 'r*', label = \"Poly Model\",markersize=20)\n",
    "fpr, tpr, thresholds = roc_curve(y_test, y_pred_lin, drop_intermediate=False)\n",
    "plt.plot(fpr, tpr,'b')\n",
    "plt.plot(pfa_lin,trpr_lin, 'b*', label = \"Linear Model\",markersize=20)\n",
    "fpr, tpr, thresholds = roc_curve(y_test, y_pred_rbf, drop_intermediate=False)\n",
    "plt.plot(fpr, tpr, 'g')\n",
    "plt.plot(pfa_rbf,trpr_rbf, 'g*', label = \"RBF Model\",markersize=20)\n",
    "\n",
    "plt.axis([0,1,0,1])\n",
    "plt.xlabel('False Positive Rate')\n",
    "plt.ylabel('True Positive Rate')\n",
    "plt.legend()\n",
    "plt.show()\n"
   ]
  },
  {
   "cell_type": "code",
   "execution_count": 13,
   "metadata": {},
   "outputs": [
    {
     "ename": "NameError",
     "evalue": "name 'self' is not defined",
     "output_type": "error",
     "traceback": [
      "\u001b[1;31m---------------------------------------------------------------------------\u001b[0m",
      "\u001b[1;31mNameError\u001b[0m                                 Traceback (most recent call last)",
      "\u001b[1;32mc:\\Users\\meuli\\Desktop\\ML\\Credit_Card_Fraud_Detection\\SVM.ipynb Cell 22'\u001b[0m in \u001b[0;36m<cell line: 4>\u001b[1;34m()\u001b[0m\n\u001b[0;32m      <a href='vscode-notebook-cell:/c%3A/Users/meuli/Desktop/ML/Credit_Card_Fraud_Detection/SVM.ipynb#ch0000042?line=1'>2</a>\u001b[0m fig \u001b[39m=\u001b[39m plt\u001b[39m.\u001b[39mfigure()\n\u001b[0;32m      <a href='vscode-notebook-cell:/c%3A/Users/meuli/Desktop/ML/Credit_Card_Fraud_Detection/SVM.ipynb#ch0000042?line=2'>3</a>\u001b[0m plt\u001b[39m.\u001b[39mimshow(cnf_rbf, interpolation\u001b[39m=\u001b[39m\u001b[39m'\u001b[39m\u001b[39mnearest\u001b[39m\u001b[39m'\u001b[39m, cmap\u001b[39m=\u001b[39mplt\u001b[39m.\u001b[39mcm\u001b[39m.\u001b[39mBlues)\n\u001b[1;32m----> <a href='vscode-notebook-cell:/c%3A/Users/meuli/Desktop/ML/Credit_Card_Fraud_Detection/SVM.ipynb#ch0000042?line=3'>4</a>\u001b[0m pcm \u001b[39m=\u001b[39m plt\u001b[39m.\u001b[39mpcolor(\u001b[39mself\u001b[39;49m\u001b[39m.\u001b[39m_data, norm \u001b[39m=\u001b[39m colors\u001b[39m.\u001b[39mLogNorm())\n\u001b[0;32m      <a href='vscode-notebook-cell:/c%3A/Users/meuli/Desktop/ML/Credit_Card_Fraud_Detection/SVM.ipynb#ch0000042?line=5'>6</a>\u001b[0m plt\u001b[39m.\u001b[39mcolorbar(pcm)\n\u001b[0;32m      <a href='vscode-notebook-cell:/c%3A/Users/meuli/Desktop/ML/Credit_Card_Fraud_Detection/SVM.ipynb#ch0000042?line=6'>7</a>\u001b[0m tick_marks \u001b[39m=\u001b[39m np\u001b[39m.\u001b[39marange(\u001b[39m2\u001b[39m)\n",
      "\u001b[1;31mNameError\u001b[0m: name 'self' is not defined"
     ]
    },
    {
     "data": {
      "image/png": "[encoded data removed]",
      "text/plain": [
       "<Figure size 432x288 with 1 Axes>"
      ]
     },
     "metadata": {
      "needs_background": "light"
     },
     "output_type": "display_data"
    }
   ],
   "source": [
    "#Plot confusion matrix\n",
    "fig = plt.figure()\n",
    "plt.imshow(cnf_rbf, interpolation='nearest', cmap=plt.cm.Blues)\n",
    "plt.colorbar()\n",
    "tick_marks = np.arange(2)\n",
    "plt.xticks(tick_marks, ['Normal', 'Fraud'])\n",
    "plt.yticks(tick_marks, ['Normal', 'Fraud'])\n",
    "plt.xlabel('Predicted Label')\n",
    "plt.ylabel('Actual Label')\n",
    "plt.text(0, 0, ' rbf: {}\\n\\n lin: {}\\n\\npoly: {}'.format(cnf_rbf[0,0],cnf_lin[0,0],cnf_poly[0,0]), ha='center', va='center', color='white', fontsize=12)\n",
    "plt.text(1, 0, ' rbf: {}\\n\\n lin: {}\\n\\npoly: {}'.format(cnf_rbf[0,1],cnf_lin[0,1],cnf_poly[0,1]), ha='center', va='center', color='black', fontsize=12)\n",
    "plt.text(0, 1, ' rbf: {}\\n\\n lin: {}\\n\\npoly: {}'.format(cnf_rbf[1,0],cnf_lin[1,0],cnf_poly[1,0]), ha='center', va='center', color='black', fontsize=12)\n",
    "plt.text(1, 1, ' rbf: {}\\n\\n lin: {}\\n\\npoly: {}'.format(cnf_rbf[1,1],cnf_lin[1,1],cnf_poly[1,1]), ha='center', va='center', color='black', fontsize=12)\n",
    "plt.show()"
   ]
  },
  {
   "cell_type": "code",
   "execution_count": null,
   "metadata": {},
   "outputs": [],
   "source": []
  }
 ],
 "metadata": {
  "kernelspec": {
   "display_name": "Python 3.9.12 ('base')",
   "language": "python",
   "name": "python3"
  },
  "language_info": {
   "codemirror_mode": {
    "name": "ipython",
    "version": 3
   },
   "file_extension": ".py",
   "mimetype": "text/x-python",
   "name": "python",
   "nbconvert_exporter": "python",
   "pygments_lexer": "ipython3",
   "version": "3.9.12"
  },
  "orig_nbformat": 4,
  "vscode": {
   "interpreter": {
    "hash": "17b4c01959b763961e65029bfd8cfa288ed8d0492d779c607a82e02daf2d74ec"
   }
  }
 },
 "nbformat": 4,
 "nbformat_minor": 2
}
