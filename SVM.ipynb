{
 "cells": [
  {
   "cell_type": "markdown",
   "metadata": {},
   "source": [
    "# Credit Card Fraud Detection\n",
    "#### By Shadi Bavar, Matthew Euliano, and Claire Parisi\n",
    "\n",
    "\n",
    "##### Importing Required Libraries & Dataset"
   ]
  },
  {
   "cell_type": "code",
   "execution_count": 1,
   "metadata": {},
   "outputs": [],
   "source": [
    "#Importing the libraries\n",
    "import numpy as np # linear algebra\n",
    "import pandas as pd # data processing\n",
    "import matplotlib.pyplot as plt\n",
    "import seaborn as sns\n",
    "from sklearn.preprocessing import StandardScaler\n",
    "from sklearn.linear_model import LogisticRegression\n",
    "from sklearn.model_selection import train_test_split, KFold\n",
    "from sklearn.metrics import confusion_matrix,ConfusionMatrixDisplay,precision_recall_curve,auc,roc_auc_score,roc_curve,recall_score,classification_report, f1_score, accuracy_score, precision_score, recall_score\n",
    "from sklearn.svm import SVC"
   ]
  },
  {
   "cell_type": "code",
   "execution_count": 2,
   "metadata": {},
   "outputs": [
    {
     "name": "stdout",
     "output_type": "stream",
     "text": [
      "Number of Features:  31\n",
      "Number of Fraudulent Transactions:  492 (0.17%)\n",
      "Number of Normal Transactions 284315 (99.83%)\n"
     ]
    },
    {
     "data": {
      "text/html": [
       "<div>\n",
       "<style scoped>\n",
       "    .dataframe tbody tr th:only-of-type {\n",
       "        vertical-align: middle;\n",
       "    }\n",
       "\n",
       "    .dataframe tbody tr th {\n",
       "        vertical-align: top;\n",
       "    }\n",
       "\n",
       "    .dataframe thead th {\n",
       "        text-align: right;\n",
       "    }\n",
       "</style>\n",
       "<table border=\"1\" class=\"dataframe\">\n",
       "  <thead>\n",
       "    <tr style=\"text-align: right;\">\n",
       "      <th></th>\n",
       "      <th>Time</th>\n",
       "      <th>V1</th>\n",
       "      <th>V2</th>\n",
       "      <th>V3</th>\n",
       "      <th>V4</th>\n",
       "      <th>V5</th>\n",
       "      <th>V6</th>\n",
       "      <th>V7</th>\n",
       "      <th>V8</th>\n",
       "      <th>V9</th>\n",
       "      <th>...</th>\n",
       "      <th>V21</th>\n",
       "      <th>V22</th>\n",
       "      <th>V23</th>\n",
       "      <th>V24</th>\n",
       "      <th>V25</th>\n",
       "      <th>V26</th>\n",
       "      <th>V27</th>\n",
       "      <th>V28</th>\n",
       "      <th>Amount</th>\n",
       "      <th>Class</th>\n",
       "    </tr>\n",
       "  </thead>\n",
       "  <tbody>\n",
       "    <tr>\n",
       "      <th>0</th>\n",
       "      <td>0.0</td>\n",
       "      <td>-1.359807</td>\n",
       "      <td>-0.072781</td>\n",
       "      <td>2.536347</td>\n",
       "      <td>1.378155</td>\n",
       "      <td>-0.338321</td>\n",
       "      <td>0.462388</td>\n",
       "      <td>0.239599</td>\n",
       "      <td>0.098698</td>\n",
       "      <td>0.363787</td>\n",
       "      <td>...</td>\n",
       "      <td>-0.018307</td>\n",
       "      <td>0.277838</td>\n",
       "      <td>-0.110474</td>\n",
       "      <td>0.066928</td>\n",
       "      <td>0.128539</td>\n",
       "      <td>-0.189115</td>\n",
       "      <td>0.133558</td>\n",
       "      <td>-0.021053</td>\n",
       "      <td>149.62</td>\n",
       "      <td>0</td>\n",
       "    </tr>\n",
       "    <tr>\n",
       "      <th>1</th>\n",
       "      <td>0.0</td>\n",
       "      <td>1.191857</td>\n",
       "      <td>0.266151</td>\n",
       "      <td>0.166480</td>\n",
       "      <td>0.448154</td>\n",
       "      <td>0.060018</td>\n",
       "      <td>-0.082361</td>\n",
       "      <td>-0.078803</td>\n",
       "      <td>0.085102</td>\n",
       "      <td>-0.255425</td>\n",
       "      <td>...</td>\n",
       "      <td>-0.225775</td>\n",
       "      <td>-0.638672</td>\n",
       "      <td>0.101288</td>\n",
       "      <td>-0.339846</td>\n",
       "      <td>0.167170</td>\n",
       "      <td>0.125895</td>\n",
       "      <td>-0.008983</td>\n",
       "      <td>0.014724</td>\n",
       "      <td>2.69</td>\n",
       "      <td>0</td>\n",
       "    </tr>\n",
       "    <tr>\n",
       "      <th>2</th>\n",
       "      <td>1.0</td>\n",
       "      <td>-1.358354</td>\n",
       "      <td>-1.340163</td>\n",
       "      <td>1.773209</td>\n",
       "      <td>0.379780</td>\n",
       "      <td>-0.503198</td>\n",
       "      <td>1.800499</td>\n",
       "      <td>0.791461</td>\n",
       "      <td>0.247676</td>\n",
       "      <td>-1.514654</td>\n",
       "      <td>...</td>\n",
       "      <td>0.247998</td>\n",
       "      <td>0.771679</td>\n",
       "      <td>0.909412</td>\n",
       "      <td>-0.689281</td>\n",
       "      <td>-0.327642</td>\n",
       "      <td>-0.139097</td>\n",
       "      <td>-0.055353</td>\n",
       "      <td>-0.059752</td>\n",
       "      <td>378.66</td>\n",
       "      <td>0</td>\n",
       "    </tr>\n",
       "    <tr>\n",
       "      <th>3</th>\n",
       "      <td>1.0</td>\n",
       "      <td>-0.966272</td>\n",
       "      <td>-0.185226</td>\n",
       "      <td>1.792993</td>\n",
       "      <td>-0.863291</td>\n",
       "      <td>-0.010309</td>\n",
       "      <td>1.247203</td>\n",
       "      <td>0.237609</td>\n",
       "      <td>0.377436</td>\n",
       "      <td>-1.387024</td>\n",
       "      <td>...</td>\n",
       "      <td>-0.108300</td>\n",
       "      <td>0.005274</td>\n",
       "      <td>-0.190321</td>\n",
       "      <td>-1.175575</td>\n",
       "      <td>0.647376</td>\n",
       "      <td>-0.221929</td>\n",
       "      <td>0.062723</td>\n",
       "      <td>0.061458</td>\n",
       "      <td>123.50</td>\n",
       "      <td>0</td>\n",
       "    </tr>\n",
       "    <tr>\n",
       "      <th>4</th>\n",
       "      <td>2.0</td>\n",
       "      <td>-1.158233</td>\n",
       "      <td>0.877737</td>\n",
       "      <td>1.548718</td>\n",
       "      <td>0.403034</td>\n",
       "      <td>-0.407193</td>\n",
       "      <td>0.095921</td>\n",
       "      <td>0.592941</td>\n",
       "      <td>-0.270533</td>\n",
       "      <td>0.817739</td>\n",
       "      <td>...</td>\n",
       "      <td>-0.009431</td>\n",
       "      <td>0.798278</td>\n",
       "      <td>-0.137458</td>\n",
       "      <td>0.141267</td>\n",
       "      <td>-0.206010</td>\n",
       "      <td>0.502292</td>\n",
       "      <td>0.219422</td>\n",
       "      <td>0.215153</td>\n",
       "      <td>69.99</td>\n",
       "      <td>0</td>\n",
       "    </tr>\n",
       "  </tbody>\n",
       "</table>\n",
       "<p>5 rows × 31 columns</p>\n",
       "</div>"
      ],
      "text/plain": [
       "   Time        V1        V2        V3        V4        V5        V6        V7  \\\n",
       "0   0.0 -1.359807 -0.072781  2.536347  1.378155 -0.338321  0.462388  0.239599   \n",
       "1   0.0  1.191857  0.266151  0.166480  0.448154  0.060018 -0.082361 -0.078803   \n",
       "2   1.0 -1.358354 -1.340163  1.773209  0.379780 -0.503198  1.800499  0.791461   \n",
       "3   1.0 -0.966272 -0.185226  1.792993 -0.863291 -0.010309  1.247203  0.237609   \n",
       "4   2.0 -1.158233  0.877737  1.548718  0.403034 -0.407193  0.095921  0.592941   \n",
       "\n",
       "         V8        V9  ...       V21       V22       V23       V24       V25  \\\n",
       "0  0.098698  0.363787  ... -0.018307  0.277838 -0.110474  0.066928  0.128539   \n",
       "1  0.085102 -0.255425  ... -0.225775 -0.638672  0.101288 -0.339846  0.167170   \n",
       "2  0.247676 -1.514654  ...  0.247998  0.771679  0.909412 -0.689281 -0.327642   \n",
       "3  0.377436 -1.387024  ... -0.108300  0.005274 -0.190321 -1.175575  0.647376   \n",
       "4 -0.270533  0.817739  ... -0.009431  0.798278 -0.137458  0.141267 -0.206010   \n",
       "\n",
       "        V26       V27       V28  Amount  Class  \n",
       "0 -0.189115  0.133558 -0.021053  149.62      0  \n",
       "1  0.125895 -0.008983  0.014724    2.69      0  \n",
       "2 -0.139097 -0.055353 -0.059752  378.66      0  \n",
       "3 -0.221929  0.062723  0.061458  123.50      0  \n",
       "4  0.502292  0.219422  0.215153   69.99      0  \n",
       "\n",
       "[5 rows x 31 columns]"
      ]
     },
     "execution_count": 2,
     "metadata": {},
     "output_type": "execute_result"
    }
   ],
   "source": [
    "# Import Data\n",
    "data = pd.read_csv('creditcard.csv')\n",
    "\n",
    "# Get samples for each class\n",
    "fraudsDF = data[data.Class == 1]\n",
    "normalDF = data[data.Class == 0]\n",
    "N = len(data)\n",
    "\n",
    "print(\"Number of Features: \", fraudsDF.shape[1])\n",
    "print(\"Number of Fraudulent Transactions: \",fraudsDF.shape[0], \"({:.2f}%)\".format(100*fraudsDF.shape[0]/N))\n",
    "print(\"Number of Normal Transactions\",normalDF.shape[0], \"({:.2f}%)\".format(100*normalDF.shape[0]/N))\n",
    "\n",
    "#See the dataset\n",
    "data.head()"
   ]
  },
  {
   "cell_type": "markdown",
   "metadata": {},
   "source": [
    "#### Regularize Features & Data Prep"
   ]
  },
  {
   "cell_type": "code",
   "execution_count": 3,
   "metadata": {},
   "outputs": [],
   "source": [
    "#Scaling amount \n",
    "std_scale = StandardScaler()\n",
    "data['Amount'] = std_scale.fit_transform(data['Amount'].values.reshape(-1, 1))\n",
    "data['Time'] = std_scale.fit_transform(data['Time'].values.reshape(-1, 1))\n",
    "# data = data.drop(['Time'], axis=1)\n",
    "\n",
    "#Split dataset into inputs (x) and labels (y)\n",
    "x = data.drop(['Class'], axis = 1)\n",
    "y = data['Class']"
   ]
  },
  {
   "cell_type": "markdown",
   "metadata": {},
   "source": [
    "#### Break dataset into Training and Testing Sets Representative of the Imbalanced Dataset"
   ]
  },
  {
   "cell_type": "code",
   "execution_count": 4,
   "metadata": {},
   "outputs": [
    {
     "name": "stdout",
     "output_type": "stream",
     "text": [
      "Training set frauds: 0.17 %\n",
      "Test set frauds: 0.17 %\n"
     ]
    }
   ],
   "source": [
    "#split dataset into training and test sets\n",
    "x_train, x_test, y_train, y_test = train_test_split(x, y, test_size = 0.2, random_state = 0, stratify = y)\n",
    "\n",
    "#check distributions of data\n",
    "fraud_train_pct = y_train[y_train== 1].value_counts()/len(y_train)*100\n",
    "fraud_test_pct = y_test[y_test == 1].value_counts()/len(y_test)*100\n",
    "\n",
    "print('Training set frauds:', round(fraud_train_pct[1], 2), '%')\n",
    "print('Test set frauds:', round(fraud_test_pct[1], 2), '%')\n"
   ]
  },
  {
   "cell_type": "markdown",
   "metadata": {},
   "source": [
    "#### Undersample the Training Set to Balance the Classes"
   ]
  },
  {
   "cell_type": "code",
   "execution_count": 5,
   "metadata": {},
   "outputs": [
    {
     "name": "stdout",
     "output_type": "stream",
     "text": [
      "Training set frauds: 50.0 %\n",
      "Training set non-frauds: 50.0 %\n"
     ]
    }
   ],
   "source": [
    "\n",
    "#find instances of fraud in training set\n",
    "train_fraud_indices = np.array(y_train[y_train== 1].index)\n",
    "n_train_fraud = len(train_fraud_indices)\n",
    "train_nonfraud_indices = np.array(y_train[y_train== 0].index)\n",
    "\n",
    "#Randomly select number of non-fraud transactions to match the number of fraud transactions\n",
    "random_indices = np.random.choice(train_nonfraud_indices, n_train_fraud, replace = False)\n",
    "undersample_indices = np.concatenate([train_fraud_indices, random_indices])\n",
    "\n",
    "#Resample the training data\n",
    "x_train_u  = x_train.loc[undersample_indices]\n",
    "y_train_u = y_train.loc[undersample_indices]\n",
    "\n",
    "#Check the new distribution of data\n",
    "fraud_train_pct_u = y_train_u[y_train_u== 1].value_counts()/len(y_train_u)*100\n",
    "nonfraud_train_pct_u = y_train_u[y_train_u== 0].value_counts()/len(y_train_u)*100\n",
    "print('Training set frauds:', round(fraud_train_pct_u[1], 2), '%')\n",
    "print('Training set non-frauds:', round(nonfraud_train_pct_u[0], 2), '%')"
   ]
  },
  {
   "cell_type": "markdown",
   "metadata": {},
   "source": [
    "## SVM"
   ]
  },
  {
   "cell_type": "code",
   "execution_count": 6,
   "metadata": {},
   "outputs": [],
   "source": [
    "# Functions to test and train different SVM Models\n",
    "from sklearn.metrics import classification_report\n",
    "def train_svm_model(x,y,C,kernel,class_weight):\n",
    "    model = SVC(C=C,kernel=kernel,class_weight=class_weight)\n",
    "    model.fit(x, y)\n",
    "    return model\n",
    "    \n",
    "def test_svm_model(x,y,model):\n",
    "    prediction = model.predict(x)\n",
    "    print(confusion_matrix(y,prediction))\n",
    "    # ConfusionMatrixDisplay.from_predictions(y,prediction)\n",
    "    # report= classification_report(y, prediction)\n",
    "    # print(report)"
   ]
  },
  {
   "cell_type": "markdown",
   "metadata": {},
   "source": [
    "#### Balanced Linear Model"
   ]
  },
  {
   "cell_type": "code",
   "execution_count": 7,
   "metadata": {},
   "outputs": [
    {
     "name": "stdout",
     "output_type": "stream",
     "text": [
      "Base SVM Confusion Matrix tested on Training Set\n",
      "[[388   6]\n",
      " [ 27 367]]\n",
      "Base SVM Confusion Matrix tested on Test Set\n",
      "[[55098  1766]\n",
      " [   12    86]]\n"
     ]
    }
   ],
   "source": [
    "# Balanced Model\n",
    "svm_base = train_svm_model(x_train_u,y_train_u,1,'linear','balanced')\n",
    "print(\"Base SVM Confusion Matrix tested on Training Set\")\n",
    "test_svm_model(x_train_u,y_train_u,svm_base)\n",
    "print(\"Base SVM Confusion Matrix tested on Test Set\")\n",
    "test_svm_model(x_test,y_test,svm_base)"
   ]
  },
  {
   "cell_type": "markdown",
   "metadata": {},
   "source": [
    "#### Weighted Linear Model"
   ]
  },
  {
   "cell_type": "code",
   "execution_count": 8,
   "metadata": {},
   "outputs": [
    {
     "name": "stdout",
     "output_type": "stream",
     "text": [
      "Base SVM Confusion Matrix tested on Training Set\n",
      "[[388   6]\n",
      " [ 27 367]]\n",
      "Base SVM Confusion Matrix tested on Test Set\n",
      "[[55098  1766]\n",
      " [   12    86]]\n"
     ]
    }
   ],
   "source": [
    "# Balanced Model\n",
    "svm_base = train_svm_model(x_train_u,y_train_u,1,'linear','balanced')\n",
    "print(\"Base SVM Confusion Matrix tested on Training Set\")\n",
    "test_svm_model(x_train_u,y_train_u,svm_base)\n",
    "print(\"Base SVM Confusion Matrix tested on Test Set\")\n",
    "test_svm_model(x_test,y_test,svm_base)"
   ]
  },
  {
   "cell_type": "markdown",
   "metadata": {},
   "source": [
    "#### Base RBF Model"
   ]
  },
  {
   "cell_type": "code",
   "execution_count": 9,
   "metadata": {},
   "outputs": [
    {
     "name": "stdout",
     "output_type": "stream",
     "text": [
      "Base SVM Confusion Matrix tested on Training Set\n",
      "[[390   4]\n",
      " [ 42 352]]\n",
      "Base SVM Confusion Matrix tested on Test Set\n",
      "[[56117   747]\n",
      " [   13    85]]\n"
     ]
    }
   ],
   "source": [
    "model = SVC(C=1,kernel='rbf',gamma='scale')\n",
    "model.fit(x_train_u,y_train_u)\n",
    "print(\"Base SVM Confusion Matrix tested on Training Set\")\n",
    "test_svm_model(x_train_u,y_train_u,model)\n",
    "print(\"Base SVM Confusion Matrix tested on Test Set\")\n",
    "test_svm_model(x_test,y_test,model)"
   ]
  },
  {
   "cell_type": "markdown",
   "metadata": {},
   "source": [
    "#### Base Poly Model"
   ]
  },
  {
   "cell_type": "code",
   "execution_count": 10,
   "metadata": {},
   "outputs": [
    {
     "name": "stdout",
     "output_type": "stream",
     "text": [
      "Base SVM Confusion Matrix tested on Training Set\n",
      "[[388   6]\n",
      " [ 32 362]]\n",
      "Base SVM Confusion Matrix tested on Test Set\n",
      "[[55760  1104]\n",
      " [   13    85]]\n"
     ]
    }
   ],
   "source": [
    "model = SVC(C=10,degree=1,kernel='poly',gamma='scale')\n",
    "model.fit(x_train_u,y_train_u)\n",
    "print(\"Base SVM Confusion Matrix tested on Training Set\")\n",
    "test_svm_model(x_train_u,y_train_u,model)\n",
    "print(\"Base SVM Confusion Matrix tested on Test Set\")\n",
    "test_svm_model(x_test,y_test,model)"
   ]
  },
  {
   "cell_type": "markdown",
   "metadata": {},
   "source": [
    "### Hyperparameter Selection via Grid Search"
   ]
  },
  {
   "cell_type": "code",
   "execution_count": 20,
   "metadata": {},
   "outputs": [],
   "source": [
    "from sklearn.model_selection import GridSearchCV\n",
    "from sklearn.metrics import classification_report\n",
    "\n",
    "def Grid_Search_SVM(parameters, score, x_train, y_train, x_test, y_test):\n",
    "    print(\"# Tuning hyper-parameters for %s\" % score)\n",
    "    print()\n",
    "\n",
    "    clf = GridSearchCV(SVC(probability=True), parameters, scoring=\"%s_macro\" % score,n_jobs=-1)\n",
    "    clf.fit(x_train, y_train)\n",
    "\n",
    "    print(\"Best parameters set found on development set:\")\n",
    "    print()\n",
    "    print(clf.best_params_)\n",
    "    # print()\n",
    "    # print(\"Grid scores on development set:\")\n",
    "    # print()\n",
    "    # means = clf.cv_results_[\"mean_test_score\"]\n",
    "    # stds = clf.cv_results_[\"std_test_score\"]\n",
    "    # for mean, std, params in zip(means, stds, clf.cv_results_[\"params\"]):\n",
    "    #     print(\"%0.3f (+/-%0.03f) for %r\" % (mean, std * 2, params))\n",
    "    # print()\n",
    "\n",
    "    # print(\"Detailed classification report:\")\n",
    "    # print()\n",
    "    # print(\"The model is trained on the full development set.\")\n",
    "    # print(\"The scores are computed on the full evaluation set.\")\n",
    "    # print()\n",
    "    y_true, y_pred = y_test, clf.predict(x_test)\n",
    "    print(classification_report(y_true, y_pred))\n",
    "    print()\n",
    "    return clf.best_estimator_"
   ]
  },
  {
   "cell_type": "code",
   "execution_count": 21,
   "metadata": {},
   "outputs": [],
   "source": [
    "# Set the parameters by cross-validation\n",
    "tuned_parameters = [\n",
    "    {\"kernel\": [\"rbf\"], \"gamma\": ['scale', 0.01,1e-3, 1e-4], \"C\": [1, 10, 100, 1000], \"class_weight\": [None,'balanced',{0:1, 1:1},{0:1, 1:1.25},{0:1, 1:1.5},{0:1, 1:1.75}]},\n",
    "    {\"kernel\": [\"linear\"], \"C\": [1, 10, 100, 1000], \"class_weight\": ['balanced',{0:1, 1:1},{0:1, 1:1.25},{0:1, 1:1.5},{0:1, 1:1.75}]},\n",
    "    {\"kernel\": [\"poly\"], \"gamma\": ['scale', 0.01,1e-3, 1e-4], \"degree\":[3,4,5], \"C\": [1, 10, 100, 1000], \"class_weight\": [None,'balanced',{0:1, 1:1},{0:1, 1:1.25},{0:1, 1:1.5},{0:1, 1:1.75}]},\n",
    "]\n",
    "scores = [\"precision\", \"recall\"]"
   ]
  },
  {
   "cell_type": "markdown",
   "metadata": {},
   "source": [
    "### RBF Kernel"
   ]
  },
  {
   "cell_type": "code",
   "execution_count": 22,
   "metadata": {},
   "outputs": [
    {
     "name": "stdout",
     "output_type": "stream",
     "text": [
      "# Tuning hyper-parameters for precision\n",
      "\n",
      "Best parameters set found on development set:\n",
      "\n",
      "{'C': 1000, 'class_weight': {0: 1, 1: 1.5}, 'gamma': 0.0001, 'kernel': 'rbf'}\n",
      "              precision    recall  f1-score   support\n",
      "\n",
      "           0       1.00      0.97      0.98     56864\n",
      "           1       0.04      0.88      0.08        98\n",
      "\n",
      "    accuracy                           0.97     56962\n",
      "   macro avg       0.52      0.92      0.53     56962\n",
      "weighted avg       1.00      0.97      0.98     56962\n",
      "\n",
      "\n",
      "Base SVM Confusion Matrix tested on Training Set\n",
      "[[386   8]\n",
      " [ 24 370]]\n",
      "Base SVM Confusion Matrix tested on Test Set\n",
      "[[54946  1918]\n",
      " [   12    86]]\n"
     ]
    }
   ],
   "source": [
    "best_model = Grid_Search_SVM(tuned_parameters[0], scores[0], x_train_u, y_train_u, x_test, y_test)\n",
    "# best_model = best_model.best_estimator_\n",
    "\n",
    "# best_model.fit(x_train_u,y_train_u)\n",
    "print(\"Base SVM Confusion Matrix tested on Training Set\")\n",
    "test_svm_model(x_train_u,y_train_u,best_model)\n",
    "print(\"Base SVM Confusion Matrix tested on Test Set\")\n",
    "test_svm_model(x_test,y_test,best_model)\n",
    "\n",
    "# Note the problem is too easy: the hyperparameter plateau is too flat and the\n",
    "# output model is the same for precision and recall with ties in quality."
   ]
  },
  {
   "cell_type": "code",
   "execution_count": 23,
   "metadata": {},
   "outputs": [
    {
     "name": "stdout",
     "output_type": "stream",
     "text": [
      "# Tuning hyper-parameters for recall\n",
      "\n",
      "Best parameters set found on development set:\n",
      "\n",
      "{'C': 1000, 'class_weight': {0: 1, 1: 1.5}, 'gamma': 0.0001, 'kernel': 'rbf'}\n",
      "              precision    recall  f1-score   support\n",
      "\n",
      "           0       1.00      0.97      0.98     56864\n",
      "           1       0.04      0.88      0.08        98\n",
      "\n",
      "    accuracy                           0.97     56962\n",
      "   macro avg       0.52      0.92      0.53     56962\n",
      "weighted avg       1.00      0.97      0.98     56962\n",
      "\n",
      "\n",
      "Base SVM Confusion Matrix tested on Training Set\n",
      "[[386   8]\n",
      " [ 24 370]]\n",
      "Base SVM Confusion Matrix tested on Test Set\n",
      "[[54946  1918]\n",
      " [   12    86]]\n"
     ]
    }
   ],
   "source": [
    "best_model = Grid_Search_SVM(tuned_parameters[0], scores[1], x_train_u, y_train_u, x_test, y_test)\n",
    "# best_model = best_model.best_estimator_\n",
    "\n",
    "# best_model.fit(x_train_u,y_train_u)\n",
    "print(\"Base SVM Confusion Matrix tested on Training Set\")\n",
    "test_svm_model(x_train_u,y_train_u,best_model)\n",
    "print(\"Base SVM Confusion Matrix tested on Test Set\")\n",
    "test_svm_model(x_test,y_test,best_model)\n",
    "\n",
    "# Note the problem is too easy: the hyperparameter plateau is too flat and the\n",
    "# output model is the same for precision and recall with ties in quality."
   ]
  },
  {
   "cell_type": "code",
   "execution_count": 26,
   "metadata": {},
   "outputs": [
    {
     "data": {
      "image/png": "[encoded data removed]",
      "text/plain": [
       "<Figure size 432x288 with 1 Axes>"
      ]
     },
     "metadata": {
      "needs_background": "light"
     },
     "output_type": "display_data"
    }
   ],
   "source": [
    "prediction = best_model.predict(x_test)\n",
    "y_score = best_model.predict_proba(x_test)\n",
    "precision, recall, thresholds = precision_recall_curve(y_test, y_score[:,1])\n",
    "plt.plot(recall, precision, 'b', label='Precision-Recall curve')\n",
    "plt.title('Recall vs Precision')\n",
    "plt.xlabel('Recall')\n",
    "plt.ylabel('Precision')\n",
    "plt.show()"
   ]
  },
  {
   "cell_type": "markdown",
   "metadata": {},
   "source": [
    "### Linear Kernel"
   ]
  },
  {
   "cell_type": "code",
   "execution_count": 27,
   "metadata": {},
   "outputs": [
    {
     "name": "stdout",
     "output_type": "stream",
     "text": [
      "# Tuning hyper-parameters for recall\n",
      "\n",
      "Best parameters set found on development set:\n",
      "\n",
      "{'C': 1, 'class_weight': 'balanced', 'kernel': 'linear'}\n",
      "              precision    recall  f1-score   support\n",
      "\n",
      "           0       1.00      0.97      0.98     56864\n",
      "           1       0.05      0.88      0.09        98\n",
      "\n",
      "    accuracy                           0.97     56962\n",
      "   macro avg       0.52      0.92      0.54     56962\n",
      "weighted avg       1.00      0.97      0.98     56962\n",
      "\n",
      "\n",
      "Base SVM Confusion Matrix tested on Training Set\n",
      "[[388   6]\n",
      " [ 27 367]]\n",
      "Base SVM Confusion Matrix tested on Test Set\n",
      "[[55098  1766]\n",
      " [   12    86]]\n"
     ]
    }
   ],
   "source": [
    "best_model = Grid_Search_SVM(tuned_parameters[1], scores[1], x_train_u, y_train_u, x_test, y_test)\n",
    "# best_model = best_model.best_estimator_\n",
    "\n",
    "# best_model.fit(x_train_u,y_train_u)\n",
    "print(\"Base SVM Confusion Matrix tested on Training Set\")\n",
    "test_svm_model(x_train_u,y_train_u,best_model)\n",
    "print(\"Base SVM Confusion Matrix tested on Test Set\")\n",
    "test_svm_model(x_test,y_test,best_model)\n",
    "\n",
    "# Note the problem is too easy: the hyperparameter plateau is too flat and the\n",
    "# output model is the same for precision and recall with ties in quality."
   ]
  },
  {
   "cell_type": "code",
   "execution_count": 28,
   "metadata": {},
   "outputs": [
    {
     "data": {
      "image/png": "[encoded data removed]",
      "text/plain": [
       "<Figure size 432x288 with 1 Axes>"
      ]
     },
     "metadata": {
      "needs_background": "light"
     },
     "output_type": "display_data"
    }
   ],
   "source": [
    "prediction = best_model.predict(x_test)\n",
    "y_score = best_model.predict_proba(x_test)\n",
    "precision, recall, thresholds = precision_recall_curve(y_test, y_score[:,1])\n",
    "plt.plot(recall, precision, 'b', label='Precision-Recall curve')\n",
    "plt.title('Recall vs Precision')\n",
    "plt.xlabel('Recall')\n",
    "plt.ylabel('Precision')\n",
    "plt.show()"
   ]
  },
  {
   "cell_type": "markdown",
   "metadata": {},
   "source": [
    "### Poly Kernel"
   ]
  },
  {
   "cell_type": "code",
   "execution_count": 29,
   "metadata": {},
   "outputs": [
    {
     "name": "stdout",
     "output_type": "stream",
     "text": [
      "# Tuning hyper-parameters for precision\n",
      "\n",
      "Best parameters set found on development set:\n",
      "\n",
      "{'C': 10, 'class_weight': None, 'degree': 3, 'gamma': 0.01, 'kernel': 'poly'}\n",
      "              precision    recall  f1-score   support\n",
      "\n",
      "           0       1.00      0.99      0.99     56864\n",
      "           1       0.10      0.85      0.17        98\n",
      "\n",
      "    accuracy                           0.99     56962\n",
      "   macro avg       0.55      0.92      0.58     56962\n",
      "weighted avg       1.00      0.99      0.99     56962\n",
      "\n",
      "\n",
      "Base SVM Confusion Matrix tested on Training Set\n",
      "[[394   0]\n",
      " [ 30 364]]\n",
      "Base SVM Confusion Matrix tested on Test Set\n",
      "[[56089   775]\n",
      " [   15    83]]\n"
     ]
    }
   ],
   "source": [
    "best_model = Grid_Search_SVM(tuned_parameters[2], scores[0], x_train_u, y_train_u, x_test, y_test)\n",
    "# best_model = best_model.best_estimator_\n",
    "\n",
    "# best_model.fit(x_train_u,y_train_u)\n",
    "print(\"Base SVM Confusion Matrix tested on Training Set\")\n",
    "test_svm_model(x_train_u,y_train_u,best_model)\n",
    "print(\"Base SVM Confusion Matrix tested on Test Set\")\n",
    "test_svm_model(x_test,y_test,best_model)\n",
    "\n",
    "# Note the problem is too easy: the hyperparameter plateau is too flat and the\n",
    "# output model is the same for precision and recall with ties in quality."
   ]
  },
  {
   "cell_type": "code",
   "execution_count": 19,
   "metadata": {},
   "outputs": [
    {
     "name": "stdout",
     "output_type": "stream",
     "text": [
      "Base SVM Confusion Matrix tested on Training Set\n",
      "[[394   0]\n",
      " [ 13 381]]\n",
      "Base SVM Confusion Matrix tested on Test Set\n",
      "[[54918  1946]\n",
      " [   11    87]]\n"
     ]
    }
   ],
   "source": [
    "# Balanced Model 'C': 1000, 'class_weight': None, 'degree': 4, 'gamma': 0.01, 'kernel': 'poly'\n",
    "model = SVC(C=1000,degree=4,kernel='poly',gamma=0.01)\n",
    "model.fit(x_train_u,y_train_u)\n",
    "print(\"Base SVM Confusion Matrix tested on Training Set\")\n",
    "test_svm_model(x_train_u,y_train_u,model)\n",
    "print(\"Base SVM Confusion Matrix tested on Test Set\")\n",
    "test_svm_model(x_test,y_test,model)"
   ]
  },
  {
   "cell_type": "code",
   "execution_count": 20,
   "metadata": {},
   "outputs": [
    {
     "ename": "NameError",
     "evalue": "name 'clf' is not defined",
     "output_type": "error",
     "traceback": [
      "\u001b[1;31m---------------------------------------------------------------------------\u001b[0m",
      "\u001b[1;31mNameError\u001b[0m                                 Traceback (most recent call last)",
      "\u001b[1;32mc:\\Users\\meuli\\Desktop\\ML\\Credit_Card_Fraud_Detection\\SVM.ipynb Cell 33'\u001b[0m in \u001b[0;36m<cell line: 1>\u001b[1;34m()\u001b[0m\n\u001b[1;32m----> <a href='vscode-notebook-cell:/c%3A/Users/meuli/Desktop/ML/Credit_Card_Fraud_Detection/SVM.ipynb#ch0000051?line=0'>1</a>\u001b[0m \u001b[39mprint\u001b[39m(clf\u001b[39m.\u001b[39mbest_params_)\n\u001b[0;32m      <a href='vscode-notebook-cell:/c%3A/Users/meuli/Desktop/ML/Credit_Card_Fraud_Detection/SVM.ipynb#ch0000051?line=2'>3</a>\u001b[0m model \u001b[39m=\u001b[39m clf\u001b[39m.\u001b[39mbest_estimator_\n\u001b[0;32m      <a href='vscode-notebook-cell:/c%3A/Users/meuli/Desktop/ML/Credit_Card_Fraud_Detection/SVM.ipynb#ch0000051?line=3'>4</a>\u001b[0m model\u001b[39m.\u001b[39mfit(x_train_u,y_train_u)\n",
      "\u001b[1;31mNameError\u001b[0m: name 'clf' is not defined"
     ]
    }
   ],
   "source": [
    "print(clf.best_params_)\n",
    "\n",
    "model = clf.best_estimator_\n",
    "model.fit(x_train_u,y_train_u)\n",
    "print(\"Base SVM Confusion Matrix tested on Training Set\")\n",
    "test_svm_model(x_train_u,y_train_u,model)\n",
    "print(\"Base SVM Confusion Matrix tested on Test Set\")\n",
    "test_svm_model(x_test,y_test,model)"
   ]
  },
  {
   "cell_type": "code",
   "execution_count": null,
   "metadata": {},
   "outputs": [
    {
     "name": "stdout",
     "output_type": "stream",
     "text": [
      "{'C': 1000, 'class_weight': {0: 1, 1: 1.75}, 'kernel': 'linear'}\n",
      "Base SVM Confusion Matrix tested on Training Set\n",
      "[[379  15]\n",
      " [ 17 377]]\n",
      "Base SVM Confusion Matrix tested on Test Set\n",
      "[[53628  3236]\n",
      " [   10    88]]\n"
     ]
    }
   ],
   "source": [
    "print(clf.best_params_)\n",
    "\n",
    "model = clf.best_estimator_\n",
    "model.fit(x_train_u,y_train_u)\n",
    "print(\"Base SVM Confusion Matrix tested on Training Set\")\n",
    "test_svm_model(x_train_u,y_train_u,model)\n",
    "print(\"Base SVM Confusion Matrix tested on Test Set\")\n",
    "test_svm_model(x_test,y_test,model)"
   ]
  },
  {
   "cell_type": "code",
   "execution_count": null,
   "metadata": {},
   "outputs": [
    {
     "name": "stdout",
     "output_type": "stream",
     "text": [
      "{'C': 1000, 'class_weight': {0: 1, 1: 1.75}, 'kernel': 'linear'}\n"
     ]
    }
   ],
   "source": [
    "import pickle\n",
    "# save the model to disk\n",
    "filename = 'finalized_model.sav'\n",
    "pickle.dump(clf, open(filename, 'wb'))\n",
    "loaded_model = pickle.load(open(filename, 'rb'))\n",
    "print(loaded_model.best_params_)"
   ]
  }
 ],
 "metadata": {
  "kernelspec": {
   "display_name": "Python 3.9.13 64-bit (windows store)",
   "language": "python",
   "name": "python3"
  },
  "language_info": {
   "codemirror_mode": {
    "name": "ipython",
    "version": 3
   },
   "file_extension": ".py",
   "mimetype": "text/x-python",
   "name": "python",
   "nbconvert_exporter": "python",
   "pygments_lexer": "ipython3",
   "version": "3.9.13"
  },
  "orig_nbformat": 4,
  "vscode": {
   "interpreter": {
    "hash": "b9d51fd8e4a399b07b9f8d77bc255b73d146bcbe1df58066270792b4cbaf9eb7"
   }
  }
 },
 "nbformat": 4,
 "nbformat_minor": 2
}
